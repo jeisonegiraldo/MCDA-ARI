{
 "cells": [
  {
   "cell_type": "markdown",
   "metadata": {},
   "source": [
    "### Limpiar datos \"DATOS TEMP\""
   ]
  },
  {
   "cell_type": "code",
   "execution_count": 1,
   "metadata": {},
   "outputs": [
    {
     "name": "stdout",
     "output_type": "stream",
     "text": [
      "Starting Spark application\n"
     ]
    },
    {
     "data": {
      "text/html": [
       "<table>\n",
       "<tr><th>ID</th><th>YARN Application ID</th><th>Kind</th><th>State</th><th>Spark UI</th><th>Driver log</th><th>Current session?</th></tr><tr><td>6</td><td>application_1646579611724_0008</td><td>pyspark</td><td>idle</td><td><a target=\"_blank\" href=\"http://ip-172-31-15-186.ec2.internal:20888/proxy/application_1646579611724_0008/\">Link</a></td><td><a target=\"_blank\" href=\"http://ip-172-31-0-11.ec2.internal:8042/node/containerlogs/container_1646579611724_0008_01_000001/livy\">Link</a></td><td>✔</td></tr></table>"
      ],
      "text/plain": [
       "<IPython.core.display.HTML object>"
      ]
     },
     "metadata": {},
     "output_type": "display_data"
    },
    {
     "data": {
      "application/vnd.jupyter.widget-view+json": {
       "model_id": "",
       "version_major": 2,
       "version_minor": 0
      },
      "text/plain": [
       "FloatProgress(value=0.0, bar_style='info', description='Progress:', layout=Layout(height='25px', width='50%'),…"
      ]
     },
     "metadata": {},
     "output_type": "display_data"
    },
    {
     "name": "stdout",
     "output_type": "stream",
     "text": [
      "SparkSession available as 'spark'.\n"
     ]
    },
    {
     "data": {
      "application/vnd.jupyter.widget-view+json": {
       "model_id": "",
       "version_major": 2,
       "version_minor": 0
      },
      "text/plain": [
       "FloatProgress(value=0.0, bar_style='info', description='Progress:', layout=Layout(height='25px', width='50%'),…"
      ]
     },
     "metadata": {},
     "output_type": "display_data"
    },
    {
     "name": "stdout",
     "output_type": "stream",
     "text": [
      "<SparkContext master=yarn appName=livy-session-6>"
     ]
    }
   ],
   "source": [
    "spark\n",
    "sc"
   ]
  },
  {
   "cell_type": "code",
   "execution_count": 3,
   "metadata": {},
   "outputs": [
    {
     "data": {
      "application/vnd.jupyter.widget-view+json": {
       "model_id": "",
       "version_major": 2,
       "version_minor": 0
      },
      "text/plain": [
       "FloatProgress(value=0.0, bar_style='info', description='Progress:', layout=Layout(height='25px', width='50%'),…"
      ]
     },
     "metadata": {},
     "output_type": "display_data"
    }
   ],
   "source": [
    "# Importar archivos de spark\n",
    "from pyspark import SparkFiles"
   ]
  },
  {
   "cell_type": "code",
   "execution_count": 4,
   "metadata": {},
   "outputs": [
    {
     "data": {
      "application/vnd.jupyter.widget-view+json": {
       "model_id": "",
       "version_major": 2,
       "version_minor": 0
      },
      "text/plain": [
       "FloatProgress(value=0.0, bar_style='info', description='Progress:', layout=Layout(height='25px', width='50%'),…"
      ]
     },
     "metadata": {},
     "output_type": "display_data"
    }
   ],
   "source": [
    "# Importa todos lo tipos de SQL\n",
    "from pyspark.sql.types import *"
   ]
  },
  {
   "cell_type": "code",
   "execution_count": 5,
   "metadata": {},
   "outputs": [
    {
     "data": {
      "application/vnd.jupyter.widget-view+json": {
       "model_id": "",
       "version_major": 2,
       "version_minor": 0
      },
      "text/plain": [
       "FloatProgress(value=0.0, bar_style='info', description='Progress:', layout=Layout(height='25px', width='50%'),…"
      ]
     },
     "metadata": {},
     "output_type": "display_data"
    }
   ],
   "source": [
    "from pyspark.sql.functions import to_date"
   ]
  },
  {
   "cell_type": "code",
   "execution_count": 6,
   "metadata": {},
   "outputs": [
    {
     "data": {
      "application/vnd.jupyter.widget-view+json": {
       "model_id": "",
       "version_major": 2,
       "version_minor": 0
      },
      "text/plain": [
       "FloatProgress(value=0.0, bar_style='info', description='Progress:', layout=Layout(height='25px', width='50%'),…"
      ]
     },
     "metadata": {},
     "output_type": "display_data"
    }
   ],
   "source": [
    "from pyspark.sql.functions import to_csv"
   ]
  },
  {
   "cell_type": "code",
   "execution_count": 7,
   "metadata": {},
   "outputs": [
    {
     "data": {
      "application/vnd.jupyter.widget-view+json": {
       "model_id": "",
       "version_major": 2,
       "version_minor": 0
      },
      "text/plain": [
       "FloatProgress(value=0.0, bar_style='info', description='Progress:', layout=Layout(height='25px', width='50%'),…"
      ]
     },
     "metadata": {},
     "output_type": "display_data"
    }
   ],
   "source": [
    "# Importar funciones \n",
    "from pyspark.sql import functions as F"
   ]
  },
  {
   "cell_type": "code",
   "execution_count": 8,
   "metadata": {},
   "outputs": [
    {
     "data": {
      "application/vnd.jupyter.widget-view+json": {
       "model_id": "",
       "version_major": 2,
       "version_minor": 0
      },
      "text/plain": [
       "FloatProgress(value=0.0, bar_style='info', description='Progress:', layout=Layout(height='25px', width='50%'),…"
      ]
     },
     "metadata": {},
     "output_type": "display_data"
    }
   ],
   "source": [
    "# Importar libreria numpy\n",
    "import numpy as np"
   ]
  },
  {
   "cell_type": "code",
   "execution_count": 9,
   "metadata": {},
   "outputs": [
    {
     "data": {
      "application/vnd.jupyter.widget-view+json": {
       "model_id": "",
       "version_major": 2,
       "version_minor": 0
      },
      "text/plain": [
       "FloatProgress(value=0.0, bar_style='info', description='Progress:', layout=Layout(height='25px', width='50%'),…"
      ]
     },
     "metadata": {},
     "output_type": "display_data"
    }
   ],
   "source": [
    "# Leer archivo desde S3\n",
    "df=spark.read.csv('s3://jarestreps-air-t1-datalake/02_RawZone/CO_Datos_Temp/CO_Datos_Temp.csv',inferSchema=True,header=True)"
   ]
  },
  {
   "cell_type": "code",
   "execution_count": 10,
   "metadata": {},
   "outputs": [
    {
     "data": {
      "application/vnd.jupyter.widget-view+json": {
       "model_id": "",
       "version_major": 2,
       "version_minor": 0
      },
      "text/plain": [
       "FloatProgress(value=0.0, bar_style='info', description='Progress:', layout=Layout(height='25px', width='50%'),…"
      ]
     },
     "metadata": {},
     "output_type": "display_data"
    },
    {
     "name": "stdout",
     "output_type": "stream",
     "text": [
      "<class 'pyspark.sql.dataframe.DataFrame'>"
     ]
    }
   ],
   "source": [
    "# Identificar tipo de archivo\n",
    "type(df)"
   ]
  },
  {
   "cell_type": "code",
   "execution_count": 11,
   "metadata": {},
   "outputs": [
    {
     "data": {
      "application/vnd.jupyter.widget-view+json": {
       "model_id": "",
       "version_major": 2,
       "version_minor": 0
      },
      "text/plain": [
       "FloatProgress(value=0.0, bar_style='info', description='Progress:', layout=Layout(height='25px', width='50%'),…"
      ]
     },
     "metadata": {},
     "output_type": "display_data"
    },
    {
     "name": "stdout",
     "output_type": "stream",
     "text": [
      "Row(CodigoEstacion=2120000106, CodigoSensor=68, FechaObservacion='01/01/2020 12:01:00 AM', ValorObservado=9.2, NombreEstacion='GRAN BRETAÑA - AUT', Departamento='BOGOTA D.C.', Municipio='BOGOTA, D.C', ZonaHidrografica='ALTO MAGDALENA', Latitud=4.512, Longitud=-74.164, DescripcionSensor='Temp Aire 2 m', UnidadMedida='°C')"
     ]
    }
   ],
   "source": [
    "#Imprimir las primeras lineas de la base de datos\n",
    "print(df.head())"
   ]
  },
  {
   "cell_type": "code",
   "execution_count": 12,
   "metadata": {},
   "outputs": [
    {
     "data": {
      "application/vnd.jupyter.widget-view+json": {
       "model_id": "",
       "version_major": 2,
       "version_minor": 0
      },
      "text/plain": [
       "FloatProgress(value=0.0, bar_style='info', description='Progress:', layout=Layout(height='25px', width='50%'),…"
      ]
     },
     "metadata": {},
     "output_type": "display_data"
    },
    {
     "name": "stdout",
     "output_type": "stream",
     "text": [
      "[Row(CodigoEstacion=26125710, CodigoSensor=68, FechaObservacion='02/27/2022 04:00:00 PM', ValorObservado=20.7, NombreEstacion='APTO MATECAÑA TX GPS/GOES', Departamento='RISARALDA', Municipio='PEREIRA', ZonaHidrografica='CAUCA', Latitud=4.813, Longitud=-75.74, DescripcionSensor='Temp Aire 2 m', UnidadMedida='°C'), Row(CodigoEstacion=35020300, CodigoSensor=68, FechaObservacion='02/27/2022 04:00:00 PM', ValorObservado=14.3, NombreEstacion='GUTIERREZ', Departamento='CUNDINAMARCA', Municipio='GUTIÉRREZ', ZonaHidrografica='META', Latitud=4.254, Longitud=-74.003, DescripcionSensor='Temp Aire 2 m', UnidadMedida='°C'), Row(CodigoEstacion=28025502, CodigoSensor=68, FechaObservacion='02/27/2022 04:00:00 PM', ValorObservado=36.1, NombreEstacion='APTO ALFONSO LOPEZ', Departamento='CESAR', Municipio='VALLEDUPAR', ZonaHidrografica='CESAR', Latitud=10.436, Longitud=-73.248, DescripcionSensor='Temp Aire 2 m', UnidadMedida='°C'), Row(CodigoEstacion=52050080, CodigoSensor=68, FechaObservacion='02/27/2022 04:00:00 PM', ValorObservado=14.7, NombreEstacion='TANGUA', Departamento='NARIÑO', Municipio='TANGUA', ZonaHidrografica='PATÍA', Latitud=1.094, Longitud=-77.392, DescripcionSensor='Temp Aire 2 m', UnidadMedida='°C'), Row(CodigoEstacion=35260050, CodigoSensor=68, FechaObservacion='02/27/2022 04:00:00 PM', ValorObservado=27.8, NombreEstacion='VUELTA MALA', Departamento='VICHADA', Municipio='LA PRIMAVERA', ZonaHidrografica='META', Latitud=5.561, Longitud=-70.281, DescripcionSensor='Temp Aire 2 m', UnidadMedida='°C')]"
     ]
    }
   ],
   "source": [
    "#Imprimir las ultimas filas de la base de datos\n",
    "print(df.tail(5))"
   ]
  },
  {
   "cell_type": "code",
   "execution_count": 13,
   "metadata": {},
   "outputs": [
    {
     "data": {
      "application/vnd.jupyter.widget-view+json": {
       "model_id": "",
       "version_major": 2,
       "version_minor": 0
      },
      "text/plain": [
       "FloatProgress(value=0.0, bar_style='info', description='Progress:', layout=Layout(height='25px', width='50%'),…"
      ]
     },
     "metadata": {},
     "output_type": "display_data"
    },
    {
     "name": "stdout",
     "output_type": "stream",
     "text": [
      "['CodigoEstacion', 'CodigoSensor', 'FechaObservacion', 'ValorObservado', 'NombreEstacion', 'Departamento', 'Municipio', 'ZonaHidrografica', 'Latitud', 'Longitud', 'DescripcionSensor', 'UnidadMedida']"
     ]
    }
   ],
   "source": [
    "#Imprimir el nombre de los campos de la base de datos\n",
    "print(df.columns)"
   ]
  },
  {
   "cell_type": "code",
   "execution_count": 14,
   "metadata": {},
   "outputs": [
    {
     "data": {
      "application/vnd.jupyter.widget-view+json": {
       "model_id": "",
       "version_major": 2,
       "version_minor": 0
      },
      "text/plain": [
       "FloatProgress(value=0.0, bar_style='info', description='Progress:', layout=Layout(height='25px', width='50%'),…"
      ]
     },
     "metadata": {},
     "output_type": "display_data"
    },
    {
     "name": "stdout",
     "output_type": "stream",
     "text": [
      "root\n",
      " |-- CodigoEstacion: long (nullable = true)\n",
      " |-- CodigoSensor: integer (nullable = true)\n",
      " |-- FechaObservacion: string (nullable = true)\n",
      " |-- ValorObservado: double (nullable = true)\n",
      " |-- NombreEstacion: string (nullable = true)\n",
      " |-- Departamento: string (nullable = true)\n",
      " |-- Municipio: string (nullable = true)\n",
      " |-- ZonaHidrografica: string (nullable = true)\n",
      " |-- Latitud: double (nullable = true)\n",
      " |-- Longitud: double (nullable = true)\n",
      " |-- DescripcionSensor: string (nullable = true)\n",
      " |-- UnidadMedida: string (nullable = true)"
     ]
    }
   ],
   "source": [
    "#Mostrar el tipo de esquema que tiene cada campo de la base de datos\n",
    "df.printSchema()"
   ]
  },
  {
   "cell_type": "code",
   "execution_count": null,
   "metadata": {},
   "outputs": [
    {
     "data": {
      "application/vnd.jupyter.widget-view+json": {
       "model_id": "1f99e7cc926b45abbdff362278f684c2",
       "version_major": 2,
       "version_minor": 0
      },
      "text/plain": [
       "FloatProgress(value=0.0, bar_style='info', description='Progress:', layout=Layout(height='25px', width='50%'),…"
      ]
     },
     "metadata": {},
     "output_type": "display_data"
    }
   ],
   "source": [
    "#Descripcion de los campos de la base de datos\n",
    "df.describe().show()"
   ]
  },
  {
   "cell_type": "code",
   "execution_count": null,
   "metadata": {},
   "outputs": [],
   "source": [
    "#Mostrar los primeros 5 campos de la base de datos\n",
    "df.show(5, truncate = False)"
   ]
  },
  {
   "cell_type": "code",
   "execution_count": null,
   "metadata": {},
   "outputs": [],
   "source": [
    "#Describir el campo \"FechaObservacion\"\n",
    "df.describe('FechaObservacion').show()"
   ]
  },
  {
   "cell_type": "code",
   "execution_count": null,
   "metadata": {},
   "outputs": [],
   "source": [
    "#Tomar solo la fecha del campo FechaObservacion\n",
    "df_N = df.withColumn('Fecha',F.split('FechaObservacion','\\ ')[0])"
   ]
  },
  {
   "cell_type": "code",
   "execution_count": null,
   "metadata": {},
   "outputs": [],
   "source": [
    "#Darle formato fecha\n",
    "df_nn=df_N.withColumn('Fecha',to_date('Fecha',\"d/M/y\"))"
   ]
  },
  {
   "cell_type": "code",
   "execution_count": null,
   "metadata": {},
   "outputs": [],
   "source": [
    "#Mostrar el nuevo campo de fecha\n",
    "df_nn.show(10)"
   ]
  },
  {
   "cell_type": "code",
   "execution_count": null,
   "metadata": {},
   "outputs": [],
   "source": [
    "#Revisar el formato\n",
    "df_nn.printSchema()"
   ]
  },
  {
   "cell_type": "code",
   "execution_count": null,
   "metadata": {},
   "outputs": [],
   "source": [
    "#Eliminar columna String FechaObesrvacion\n",
    "df_1 = df_nn.drop('FechaObservacion')"
   ]
  },
  {
   "cell_type": "code",
   "execution_count": null,
   "metadata": {},
   "outputs": [],
   "source": [
    "#Verificar las columnas de nuevo DF\n",
    "df_1.printSchema()"
   ]
  },
  {
   "cell_type": "code",
   "execution_count": null,
   "metadata": {},
   "outputs": [],
   "source": [
    "#Guardar nuevo DF en zona trusted\n",
    "df_1.coalesce(1).write.format(\"csv\").option(\"header\",\"true\").save(\"s3://jarestreps-air-t1-datalake/03_TrustedZone/CO_Datos_Temp\")"
   ]
  }
 ],
 "metadata": {
  "kernelspec": {
   "display_name": "PySpark",
   "language": "",
   "name": "pysparkkernel"
  },
  "language_info": {
   "codemirror_mode": {
    "name": "python",
    "version": 3
   },
   "mimetype": "text/x-python",
   "name": "pyspark",
   "pygments_lexer": "python3"
  }
 },
 "nbformat": 4,
 "nbformat_minor": 4
}
