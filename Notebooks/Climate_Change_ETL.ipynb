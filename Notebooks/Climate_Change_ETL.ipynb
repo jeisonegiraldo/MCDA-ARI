{
 "cells": [
  {
   "cell_type": "markdown",
   "metadata": {},
   "source": [
    "### Limpiar datos CLIMATE CHANGE"
   ]
  },
  {
   "cell_type": "code",
   "execution_count": 1,
   "metadata": {},
   "outputs": [
    {
     "name": "stdout",
     "output_type": "stream",
     "text": [
      "Starting Spark application\n"
     ]
    },
    {
     "data": {
      "text/html": [
       "<table>\n",
       "<tr><th>ID</th><th>YARN Application ID</th><th>Kind</th><th>State</th><th>Spark UI</th><th>Driver log</th><th>Current session?</th></tr><tr><td>5</td><td>application_1646579611724_0007</td><td>pyspark</td><td>idle</td><td><a target=\"_blank\" href=\"http://ip-172-31-15-186.ec2.internal:20888/proxy/application_1646579611724_0007/\">Link</a></td><td><a target=\"_blank\" href=\"http://ip-172-31-0-11.ec2.internal:8042/node/containerlogs/container_1646579611724_0007_01_000001/livy\">Link</a></td><td>✔</td></tr></table>"
      ],
      "text/plain": [
       "<IPython.core.display.HTML object>"
      ]
     },
     "metadata": {},
     "output_type": "display_data"
    },
    {
     "data": {
      "application/vnd.jupyter.widget-view+json": {
       "model_id": "",
       "version_major": 2,
       "version_minor": 0
      },
      "text/plain": [
       "FloatProgress(value=0.0, bar_style='info', description='Progress:', layout=Layout(height='25px', width='50%'),…"
      ]
     },
     "metadata": {},
     "output_type": "display_data"
    },
    {
     "name": "stdout",
     "output_type": "stream",
     "text": [
      "SparkSession available as 'spark'.\n"
     ]
    },
    {
     "data": {
      "application/vnd.jupyter.widget-view+json": {
       "model_id": "",
       "version_major": 2,
       "version_minor": 0
      },
      "text/plain": [
       "FloatProgress(value=0.0, bar_style='info', description='Progress:', layout=Layout(height='25px', width='50%'),…"
      ]
     },
     "metadata": {},
     "output_type": "display_data"
    },
    {
     "name": "stdout",
     "output_type": "stream",
     "text": [
      "<SparkContext master=yarn appName=livy-session-5>"
     ]
    }
   ],
   "source": [
    "spark\n",
    "sc"
   ]
  },
  {
   "cell_type": "code",
   "execution_count": 2,
   "metadata": {},
   "outputs": [
    {
     "data": {
      "application/vnd.jupyter.widget-view+json": {
       "model_id": "",
       "version_major": 2,
       "version_minor": 0
      },
      "text/plain": [
       "FloatProgress(value=0.0, bar_style='info', description='Progress:', layout=Layout(height='25px', width='50%'),…"
      ]
     },
     "metadata": {},
     "output_type": "display_data"
    }
   ],
   "source": [
    "# Importar archivos de spark\n",
    "from pyspark import SparkFiles"
   ]
  },
  {
   "cell_type": "code",
   "execution_count": 3,
   "metadata": {},
   "outputs": [
    {
     "data": {
      "application/vnd.jupyter.widget-view+json": {
       "model_id": "",
       "version_major": 2,
       "version_minor": 0
      },
      "text/plain": [
       "FloatProgress(value=0.0, bar_style='info', description='Progress:', layout=Layout(height='25px', width='50%'),…"
      ]
     },
     "metadata": {},
     "output_type": "display_data"
    }
   ],
   "source": [
    "from pyspark.sql.types import *"
   ]
  },
  {
   "cell_type": "code",
   "execution_count": 4,
   "metadata": {},
   "outputs": [
    {
     "data": {
      "application/vnd.jupyter.widget-view+json": {
       "model_id": "",
       "version_major": 2,
       "version_minor": 0
      },
      "text/plain": [
       "FloatProgress(value=0.0, bar_style='info', description='Progress:', layout=Layout(height='25px', width='50%'),…"
      ]
     },
     "metadata": {},
     "output_type": "display_data"
    }
   ],
   "source": [
    "# Importa todos lo tipos de SQL\n",
    "from pyspark.sql.types import *"
   ]
  },
  {
   "cell_type": "code",
   "execution_count": 5,
   "metadata": {},
   "outputs": [
    {
     "data": {
      "application/vnd.jupyter.widget-view+json": {
       "model_id": "",
       "version_major": 2,
       "version_minor": 0
      },
      "text/plain": [
       "FloatProgress(value=0.0, bar_style='info', description='Progress:', layout=Layout(height='25px', width='50%'),…"
      ]
     },
     "metadata": {},
     "output_type": "display_data"
    }
   ],
   "source": [
    "from pyspark.sql.functions import to_date"
   ]
  },
  {
   "cell_type": "code",
   "execution_count": 6,
   "metadata": {},
   "outputs": [
    {
     "data": {
      "application/vnd.jupyter.widget-view+json": {
       "model_id": "",
       "version_major": 2,
       "version_minor": 0
      },
      "text/plain": [
       "FloatProgress(value=0.0, bar_style='info', description='Progress:', layout=Layout(height='25px', width='50%'),…"
      ]
     },
     "metadata": {},
     "output_type": "display_data"
    }
   ],
   "source": [
    "# Importar funciones \n",
    "from pyspark.sql import functions as F"
   ]
  },
  {
   "cell_type": "code",
   "execution_count": 7,
   "metadata": {},
   "outputs": [
    {
     "data": {
      "application/vnd.jupyter.widget-view+json": {
       "model_id": "",
       "version_major": 2,
       "version_minor": 0
      },
      "text/plain": [
       "FloatProgress(value=0.0, bar_style='info', description='Progress:', layout=Layout(height='25px', width='50%'),…"
      ]
     },
     "metadata": {},
     "output_type": "display_data"
    }
   ],
   "source": [
    "# Importar libreria numpy\n",
    "import numpy as np"
   ]
  },
  {
   "cell_type": "code",
   "execution_count": 8,
   "metadata": {},
   "outputs": [
    {
     "data": {
      "application/vnd.jupyter.widget-view+json": {
       "model_id": "",
       "version_major": 2,
       "version_minor": 0
      },
      "text/plain": [
       "FloatProgress(value=0.0, bar_style='info', description='Progress:', layout=Layout(height='25px', width='50%'),…"
      ]
     },
     "metadata": {},
     "output_type": "display_data"
    }
   ],
   "source": [
    "# Leer archivo desde S3\n",
    "df=spark.read.csv('s3://jarestreps-air-t1-datalake/02_RawZone/Climate_Change/Climate_Change.csv',inferSchema=True,header=True)"
   ]
  },
  {
   "cell_type": "code",
   "execution_count": 9,
   "metadata": {},
   "outputs": [
    {
     "data": {
      "application/vnd.jupyter.widget-view+json": {
       "model_id": "",
       "version_major": 2,
       "version_minor": 0
      },
      "text/plain": [
       "FloatProgress(value=0.0, bar_style='info', description='Progress:', layout=Layout(height='25px', width='50%'),…"
      ]
     },
     "metadata": {},
     "output_type": "display_data"
    },
    {
     "name": "stdout",
     "output_type": "stream",
     "text": [
      "['Series Name', 'Series Code', 'Country Name', 'Country Code', '1990 [YR1990]', '2000 [YR2000]', '2011 [YR2011]', '2012 [YR2012]', '2013 [YR2013]', '2014 [YR2014]', '2015 [YR2015]', '2016 [YR2016]', '2017 [YR2017]', '2018 [YR2018]', '2019 [YR2019]', '2020 [YR2020];']"
     ]
    }
   ],
   "source": [
    "print(df.columns)"
   ]
  },
  {
   "cell_type": "code",
   "execution_count": 10,
   "metadata": {},
   "outputs": [
    {
     "data": {
      "application/vnd.jupyter.widget-view+json": {
       "model_id": "",
       "version_major": 2,
       "version_minor": 0
      },
      "text/plain": [
       "FloatProgress(value=0.0, bar_style='info', description='Progress:', layout=Layout(height='25px', width='50%'),…"
      ]
     },
     "metadata": {},
     "output_type": "display_data"
    },
    {
     "name": "stdout",
     "output_type": "stream",
     "text": [
      "root\n",
      " |-- Series Name: string (nullable = true)\n",
      " |-- Series Code: string (nullable = true)\n",
      " |-- Country Name: string (nullable = true)\n",
      " |-- Country Code: string (nullable = true)\n",
      " |-- 1990 [YR1990]: string (nullable = true)\n",
      " |-- 2000 [YR2000]: string (nullable = true)\n",
      " |-- 2011 [YR2011]: string (nullable = true)\n",
      " |-- 2012 [YR2012]: string (nullable = true)\n",
      " |-- 2013 [YR2013]: string (nullable = true)\n",
      " |-- 2014 [YR2014]: string (nullable = true)\n",
      " |-- 2015 [YR2015]: string (nullable = true)\n",
      " |-- 2016 [YR2016]: string (nullable = true)\n",
      " |-- 2017 [YR2017]: string (nullable = true)\n",
      " |-- 2018 [YR2018]: string (nullable = true)\n",
      " |-- 2019 [YR2019]: string (nullable = true)\n",
      " |-- 2020 [YR2020];: string (nullable = true)"
     ]
    }
   ],
   "source": [
    "#Mostrar el tipo de esquema que tiene cada campo de la base de datos\n",
    "df.printSchema()"
   ]
  },
  {
   "cell_type": "code",
   "execution_count": null,
   "metadata": {},
   "outputs": [],
   "source": [
    "df.show(5, truncate = False)"
   ]
  },
  {
   "cell_type": "code",
   "execution_count": 11,
   "metadata": {
    "scrolled": true
   },
   "outputs": [
    {
     "data": {
      "application/vnd.jupyter.widget-view+json": {
       "model_id": "",
       "version_major": 2,
       "version_minor": 0
      },
      "text/plain": [
       "FloatProgress(value=0.0, bar_style='info', description='Progress:', layout=Layout(height='25px', width='50%'),…"
      ]
     },
     "metadata": {},
     "output_type": "display_data"
    }
   ],
   "source": [
    "# Cambiar nombre de columnas\n",
    "df1 = df.toDF(*(\"Serie Name\", \"Code\", \"Country\",\"Country Code\",\"1990\",\"2000\",\"2011\",\"2012\",\"2013\",\"2014\",\"2015\",\"2016\",\"2017\",\"2018\",\"2019\",\"2020\"))"
   ]
  },
  {
   "cell_type": "code",
   "execution_count": 12,
   "metadata": {},
   "outputs": [
    {
     "data": {
      "application/vnd.jupyter.widget-view+json": {
       "model_id": "",
       "version_major": 2,
       "version_minor": 0
      },
      "text/plain": [
       "FloatProgress(value=0.0, bar_style='info', description='Progress:', layout=Layout(height='25px', width='50%'),…"
      ]
     },
     "metadata": {},
     "output_type": "display_data"
    },
    {
     "name": "stdout",
     "output_type": "stream",
     "text": [
      "New columns:  ['Serie Name', 'Code', 'Country', 'Country Code', '1990', '2000', '2011', '2012', '2013', '2014', '2015', '2016', '2017', '2018', '2019', '2020']"
     ]
    }
   ],
   "source": [
    "# Mostrar el nombre de las nuevas columnas\n",
    "print(\"New columns: \", df1.columns)"
   ]
  },
  {
   "cell_type": "code",
   "execution_count": 13,
   "metadata": {},
   "outputs": [
    {
     "data": {
      "application/vnd.jupyter.widget-view+json": {
       "model_id": "",
       "version_major": 2,
       "version_minor": 0
      },
      "text/plain": [
       "FloatProgress(value=0.0, bar_style='info', description='Progress:', layout=Layout(height='25px', width='50%'),…"
      ]
     },
     "metadata": {},
     "output_type": "display_data"
    },
    {
     "name": "stdout",
     "output_type": "stream",
     "text": [
      "+--------------------+--------------+-------------------+------------+-------+--------+---------+---------+---------+---------+--------+--------+----------+----------+----+----+\n",
      "|          Serie Name|          Code|            Country|Country Code|   1990|    2000|     2011|     2012|     2013|     2014|    2015|    2016|      2017|      2018|2019|2020|\n",
      "+--------------------+--------------+-------------------+------------+-------+--------+---------+---------+---------+---------+--------+--------+----------+----------+----+----+\n",
      "|Agricultural land...|AG.LND.AGRI.K2|        Afghanistan|         AFG| 380400|  377530|   379100|   379100|   379100|   379100|  379100|  379100|    379100|   379190;|null|null|\n",
      "|Agricultural land...|AG.LND.AGRI.K2|            Albania|         ALB|  11210|   11440|    12010|    12013|    11873|  11742.9|   11743|   11817|  11691.81| 11740.81;|null|null|\n",
      "|Agricultural land...|AG.LND.AGRI.K2|            Algeria|         DZA| 386760|  400210|   413880| 413981.9|414316.35|   414310|  414564|  413602|413351.408|413588.47;|null|null|\n",
      "|Agricultural land...|AG.LND.AGRI.K2|     American Samoa|         ASM|     30|      48|       49|       49|       49|       49|      49|      49|        49|       49;|null|null|\n",
      "|Agricultural land...|AG.LND.AGRI.K2|            Andorra|         AND|    230|     230|    197.7|    187.6|    188.1|      188|   188.1|   188.2|     188.2|    188.3;|null|null|\n",
      "|Agricultural land...|AG.LND.AGRI.K2|             Angola|         AGO| 574040|469613.9|530670.62|536221.24|541771.86|547322.48|552873.1|558423.8|  563974.3| 569524.9;|null|null|\n",
      "|Agricultural land...|AG.LND.AGRI.K2|Antigua and Barbuda|         ATG|     90|      90|       90|       90|       90|       90|      90|      90|        90|       90;|null|null|\n",
      "|Agricultural land...|AG.LND.AGRI.K2|          Argentina|         ARG|1275650| 1285100|  1482810|  1492540|  1491990|  1487000| 1487000| 1487000|   1487000|  1487680;|null|null|\n",
      "|Agricultural land...|AG.LND.AGRI.K2|            Armenia|         ARM|  13230|   16981|    16830|    16830|    16807|    16767|   16768|   16761|    16773;|      null|null|null|\n",
      "|Agricultural land...|AG.LND.AGRI.K2|              Aruba|         ABW|     20|      20|       20|       20|       20|       20|      20|      20|        20|       20;|null|null|\n",
      "|Agricultural land...|AG.LND.AGRI.K2|          Australia|         AUS|4644370| 4554690|  3961210|  3870760|  3717750|  3744230| 3481190| 3426020|   3718370|  3588950;|null|null|\n",
      "|Agricultural land...|AG.LND.AGRI.K2|            Austria|         AUT|  30239|   29402|    27573|    27352|    27164|    27142| 27184.5| 26701.7|   26546.2|  26528.3;|null|null|\n",
      "|Agricultural land...|AG.LND.AGRI.K2|         Azerbaijan|         AZE|  47404|   47687|    47683|    47698|    47697|    47698|   47730|   47775|    47795;|      null|null|null|\n",
      "|\"Agricultural lan...|         The\"\"|                BHS|         120|    130|     140|      140|      140|      140|      140|     140|     140|     140\";|      null|null|null|\n",
      "|Agricultural land...|AG.LND.AGRI.K2|            Bahrain|         BHR|     80|      92|       86|       86|       86|       86|      86|      86|        86|       86;|null|null|\n",
      "|Agricultural land...|AG.LND.AGRI.K2|         Bangladesh|         BGD| 103860|   94000|    91280|    91200|    91080|    90990| 91622.4| 91942.1|   91873.3|    92023;|null|null|\n",
      "|Agricultural land...|AG.LND.AGRI.K2|           Barbados|         BRB|    190|     180|      140|      130|      125|      120|     110|     100|       100|      100;|null|null|\n",
      "|Agricultural land...|AG.LND.AGRI.K2|            Belarus|         BLR|  92520|   88750|    87960|    87112|    86239|    85742|   85327|   84940|    84530;|      null|null|null|\n",
      "|Agricultural land...|AG.LND.AGRI.K2|            Belgium|         BEL|  14430|   13896|    13357|    13320|    13365|    13313|   13280|   13508|     13270|    13540;|null|null|\n",
      "|Agricultural land...|AG.LND.AGRI.K2|             Belize|         BLZ|   1260|    1490|     1570|     1600|     1600|     1600|    1700|    1700|      1720|     1720;|null|null|\n",
      "+--------------------+--------------+-------------------+------------+-------+--------+---------+---------+---------+---------+--------+--------+----------+----------+----+----+\n",
      "only showing top 20 rows"
     ]
    }
   ],
   "source": [
    "# Mostrear el DF\n",
    "df1.show()"
   ]
  },
  {
   "cell_type": "code",
   "execution_count": 14,
   "metadata": {},
   "outputs": [
    {
     "data": {
      "application/vnd.jupyter.widget-view+json": {
       "model_id": "",
       "version_major": 2,
       "version_minor": 0
      },
      "text/plain": [
       "FloatProgress(value=0.0, bar_style='info', description='Progress:', layout=Layout(height='25px', width='50%'),…"
      ]
     },
     "metadata": {},
     "output_type": "display_data"
    },
    {
     "name": "stdout",
     "output_type": "stream",
     "text": [
      "root\n",
      " |-- Serie Name: string (nullable = true)\n",
      " |-- Code: string (nullable = true)\n",
      " |-- Country: string (nullable = true)\n",
      " |-- Country Code: string (nullable = true)\n",
      " |-- 1990: string (nullable = true)\n",
      " |-- 2000: string (nullable = true)\n",
      " |-- 2011: string (nullable = true)\n",
      " |-- 2012: string (nullable = true)\n",
      " |-- 2013: string (nullable = true)\n",
      " |-- 2014: string (nullable = true)\n",
      " |-- 2015: string (nullable = true)\n",
      " |-- 2016: string (nullable = true)\n",
      " |-- 2017: string (nullable = true)\n",
      " |-- 2018: string (nullable = true)\n",
      " |-- 2019: string (nullable = true)\n",
      " |-- 2020: string (nullable = true)"
     ]
    }
   ],
   "source": [
    "#Mostrar el tipo de esquema que tiene cada campo de la base de datos\n",
    "df1.printSchema()"
   ]
  },
  {
   "cell_type": "code",
   "execution_count": 15,
   "metadata": {},
   "outputs": [
    {
     "data": {
      "application/vnd.jupyter.widget-view+json": {
       "model_id": "",
       "version_major": 2,
       "version_minor": 0
      },
      "text/plain": [
       "FloatProgress(value=0.0, bar_style='info', description='Progress:', layout=Layout(height='25px', width='50%'),…"
      ]
     },
     "metadata": {},
     "output_type": "display_data"
    }
   ],
   "source": [
    "#Darle formato double\n",
    "from pyspark.sql.types import DoubleType\n",
    "df2 = df1.withColumn(\"1990\", df1[\"1990\"].cast(DoubleType()))\\\n",
    ".withColumn(\"2000\", df1[\"2000\"].cast(DoubleType()))\\\n",
    ".withColumn(\"2011\", df1[\"2011\"].cast(DoubleType()))\\\n",
    ".withColumn(\"2012\", df1[\"2012\"].cast(DoubleType()))\\\n",
    ".withColumn(\"2013\", df1[\"2013\"].cast(DoubleType()))\\\n",
    ".withColumn(\"2014\", df1[\"2014\"].cast(DoubleType()))\\\n",
    ".withColumn(\"2015\", df1[\"2015\"].cast(DoubleType()))\\\n",
    ".withColumn(\"2016\", df1[\"2016\"].cast(DoubleType()))\\\n",
    ".withColumn(\"2017\", df1[\"2017\"].cast(DoubleType()))\\\n",
    ".withColumn(\"2018\", df1[\"2018\"].cast(DoubleType()))\\\n",
    ".withColumn(\"2019\", df1[\"2019\"].cast(DoubleType()))\\\n",
    ".withColumn(\"2020\", df1[\"2020\"].cast(DoubleType()))\n"
   ]
  },
  {
   "cell_type": "code",
   "execution_count": 16,
   "metadata": {},
   "outputs": [
    {
     "data": {
      "application/vnd.jupyter.widget-view+json": {
       "model_id": "",
       "version_major": 2,
       "version_minor": 0
      },
      "text/plain": [
       "FloatProgress(value=0.0, bar_style='info', description='Progress:', layout=Layout(height='25px', width='50%'),…"
      ]
     },
     "metadata": {},
     "output_type": "display_data"
    },
    {
     "name": "stdout",
     "output_type": "stream",
     "text": [
      "+--------------------+--------------+-------------------+------------+---------+---------+---------+---------+---------+---------+---------+---------+----------+----+----+----+\n",
      "|          Serie Name|          Code|            Country|Country Code|     1990|     2000|     2011|     2012|     2013|     2014|     2015|     2016|      2017|2018|2019|2020|\n",
      "+--------------------+--------------+-------------------+------------+---------+---------+---------+---------+---------+---------+---------+---------+----------+----+----+----+\n",
      "|Agricultural land...|AG.LND.AGRI.K2|        Afghanistan|         AFG| 380400.0| 377530.0| 379100.0| 379100.0| 379100.0| 379100.0| 379100.0| 379100.0|  379100.0|null|null|null|\n",
      "|Agricultural land...|AG.LND.AGRI.K2|            Albania|         ALB|  11210.0|  11440.0|  12010.0|  12013.0|  11873.0|  11742.9|  11743.0|  11817.0|  11691.81|null|null|null|\n",
      "|Agricultural land...|AG.LND.AGRI.K2|            Algeria|         DZA| 386760.0| 400210.0| 413880.0| 413981.9|414316.35| 414310.0| 414564.0| 413602.0|413351.408|null|null|null|\n",
      "|Agricultural land...|AG.LND.AGRI.K2|     American Samoa|         ASM|     30.0|     48.0|     49.0|     49.0|     49.0|     49.0|     49.0|     49.0|      49.0|null|null|null|\n",
      "|Agricultural land...|AG.LND.AGRI.K2|            Andorra|         AND|    230.0|    230.0|    197.7|    187.6|    188.1|    188.0|    188.1|    188.2|     188.2|null|null|null|\n",
      "|Agricultural land...|AG.LND.AGRI.K2|             Angola|         AGO| 574040.0| 469613.9|530670.62|536221.24|541771.86|547322.48| 552873.1| 558423.8|  563974.3|null|null|null|\n",
      "|Agricultural land...|AG.LND.AGRI.K2|Antigua and Barbuda|         ATG|     90.0|     90.0|     90.0|     90.0|     90.0|     90.0|     90.0|     90.0|      90.0|null|null|null|\n",
      "|Agricultural land...|AG.LND.AGRI.K2|          Argentina|         ARG|1275650.0|1285100.0|1482810.0|1492540.0|1491990.0|1487000.0|1487000.0|1487000.0| 1487000.0|null|null|null|\n",
      "|Agricultural land...|AG.LND.AGRI.K2|            Armenia|         ARM|  13230.0|  16981.0|  16830.0|  16830.0|  16807.0|  16767.0|  16768.0|  16761.0|      null|null|null|null|\n",
      "|Agricultural land...|AG.LND.AGRI.K2|              Aruba|         ABW|     20.0|     20.0|     20.0|     20.0|     20.0|     20.0|     20.0|     20.0|      20.0|null|null|null|\n",
      "|Agricultural land...|AG.LND.AGRI.K2|          Australia|         AUS|4644370.0|4554690.0|3961210.0|3870760.0|3717750.0|3744230.0|3481190.0|3426020.0| 3718370.0|null|null|null|\n",
      "|Agricultural land...|AG.LND.AGRI.K2|            Austria|         AUT|  30239.0|  29402.0|  27573.0|  27352.0|  27164.0|  27142.0|  27184.5|  26701.7|   26546.2|null|null|null|\n",
      "|Agricultural land...|AG.LND.AGRI.K2|         Azerbaijan|         AZE|  47404.0|  47687.0|  47683.0|  47698.0|  47697.0|  47698.0|  47730.0|  47775.0|      null|null|null|null|\n",
      "|\"Agricultural lan...|         The\"\"|                BHS|         120|    130.0|    140.0|    140.0|    140.0|    140.0|    140.0|    140.0|    140.0|      null|null|null|null|\n",
      "|Agricultural land...|AG.LND.AGRI.K2|            Bahrain|         BHR|     80.0|     92.0|     86.0|     86.0|     86.0|     86.0|     86.0|     86.0|      86.0|null|null|null|\n",
      "|Agricultural land...|AG.LND.AGRI.K2|         Bangladesh|         BGD| 103860.0|  94000.0|  91280.0|  91200.0|  91080.0|  90990.0|  91622.4|  91942.1|   91873.3|null|null|null|\n",
      "|Agricultural land...|AG.LND.AGRI.K2|           Barbados|         BRB|    190.0|    180.0|    140.0|    130.0|    125.0|    120.0|    110.0|    100.0|     100.0|null|null|null|\n",
      "|Agricultural land...|AG.LND.AGRI.K2|            Belarus|         BLR|  92520.0|  88750.0|  87960.0|  87112.0|  86239.0|  85742.0|  85327.0|  84940.0|      null|null|null|null|\n",
      "|Agricultural land...|AG.LND.AGRI.K2|            Belgium|         BEL|  14430.0|  13896.0|  13357.0|  13320.0|  13365.0|  13313.0|  13280.0|  13508.0|   13270.0|null|null|null|\n",
      "|Agricultural land...|AG.LND.AGRI.K2|             Belize|         BLZ|   1260.0|   1490.0|   1570.0|   1600.0|   1600.0|   1600.0|   1700.0|   1700.0|    1720.0|null|null|null|\n",
      "+--------------------+--------------+-------------------+------------+---------+---------+---------+---------+---------+---------+---------+---------+----------+----+----+----+\n",
      "only showing top 20 rows"
     ]
    }
   ],
   "source": [
    "# Mostrear el DF\n",
    "df2.show()"
   ]
  },
  {
   "cell_type": "code",
   "execution_count": 17,
   "metadata": {},
   "outputs": [
    {
     "data": {
      "application/vnd.jupyter.widget-view+json": {
       "model_id": "",
       "version_major": 2,
       "version_minor": 0
      },
      "text/plain": [
       "FloatProgress(value=0.0, bar_style='info', description='Progress:', layout=Layout(height='25px', width='50%'),…"
      ]
     },
     "metadata": {},
     "output_type": "display_data"
    },
    {
     "name": "stdout",
     "output_type": "stream",
     "text": [
      "root\n",
      " |-- Serie Name: string (nullable = true)\n",
      " |-- Code: string (nullable = true)\n",
      " |-- Country: string (nullable = true)\n",
      " |-- Country Code: string (nullable = true)\n",
      " |-- 1990: double (nullable = true)\n",
      " |-- 2000: double (nullable = true)\n",
      " |-- 2011: double (nullable = true)\n",
      " |-- 2012: double (nullable = true)\n",
      " |-- 2013: double (nullable = true)\n",
      " |-- 2014: double (nullable = true)\n",
      " |-- 2015: double (nullable = true)\n",
      " |-- 2016: double (nullable = true)\n",
      " |-- 2017: double (nullable = true)\n",
      " |-- 2018: double (nullable = true)\n",
      " |-- 2019: double (nullable = true)\n",
      " |-- 2020: double (nullable = true)"
     ]
    }
   ],
   "source": [
    "#Mostrar el tipo de esquema que tiene cada campo de la base de datos\n",
    "df2.printSchema()"
   ]
  },
  {
   "cell_type": "code",
   "execution_count": 18,
   "metadata": {},
   "outputs": [
    {
     "data": {
      "application/vnd.jupyter.widget-view+json": {
       "model_id": "",
       "version_major": 2,
       "version_minor": 0
      },
      "text/plain": [
       "FloatProgress(value=0.0, bar_style='info', description='Progress:', layout=Layout(height='25px', width='50%'),…"
      ]
     },
     "metadata": {},
     "output_type": "display_data"
    },
    {
     "name": "stdout",
     "output_type": "stream",
     "text": [
      "+--------------------+\n",
      "|           sum(2016)|\n",
      "+--------------------+\n",
      "|1.224028136924802...|\n",
      "+--------------------+"
     ]
    }
   ],
   "source": [
    "#Verificar suma\n",
    "df2.agg({'2016': 'sum'}).show()"
   ]
  },
  {
   "cell_type": "code",
   "execution_count": 19,
   "metadata": {},
   "outputs": [
    {
     "data": {
      "application/vnd.jupyter.widget-view+json": {
       "model_id": "",
       "version_major": 2,
       "version_minor": 0
      },
      "text/plain": [
       "FloatProgress(value=0.0, bar_style='info', description='Progress:', layout=Layout(height='25px', width='50%'),…"
      ]
     },
     "metadata": {},
     "output_type": "display_data"
    },
    {
     "name": "stdout",
     "output_type": "stream",
     "text": [
      "Row(Serie Name='Agricultural land (sq. km)', Code='AG.LND.AGRI.K2', Country='Afghanistan', Country Code='AFG', 1990=380400.0, 2000=377530.0, 2011=379100.0, 2012=379100.0, 2013=379100.0, 2014=379100.0, 2015=379100.0, 2016=379100.0, 2017=379100.0, 2018=None, 2019=None, 2020=None)"
     ]
    }
   ],
   "source": [
    "#Imprimir las primeras lineas de la base de datos\n",
    "print(df2.head())"
   ]
  },
  {
   "cell_type": "code",
   "execution_count": 25,
   "metadata": {},
   "outputs": [
    {
     "data": {
      "application/vnd.jupyter.widget-view+json": {
       "model_id": "",
       "version_major": 2,
       "version_minor": 0
      },
      "text/plain": [
       "FloatProgress(value=0.0, bar_style='info', description='Progress:', layout=Layout(height='25px', width='50%'),…"
      ]
     },
     "metadata": {},
     "output_type": "display_data"
    }
   ],
   "source": [
    "#Guardar nuevo DF en zona trusted\n",
    "df2.coalesce(1).write.format(\"csv\").option(\"header\",\"true\").save(\"s3://jarestreps-air-t1-datalake/03_TrustedZone/Climate_Change\")"
   ]
  },
  {
   "cell_type": "code",
   "execution_count": null,
   "metadata": {},
   "outputs": [],
   "source": []
  }
 ],
 "metadata": {
  "kernelspec": {
   "display_name": "PySpark",
   "language": "",
   "name": "pysparkkernel"
  },
  "language_info": {
   "codemirror_mode": {
    "name": "python",
    "version": 3
   },
   "mimetype": "text/x-python",
   "name": "pyspark",
   "pygments_lexer": "python3"
  }
 },
 "nbformat": 4,
 "nbformat_minor": 4
}
